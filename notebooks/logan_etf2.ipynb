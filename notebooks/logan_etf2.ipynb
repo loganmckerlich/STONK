{
 "cells": [
  {
   "cell_type": "markdown",
   "metadata": {},
   "source": [
    "# Take 2"
   ]
  },
  {
   "cell_type": "code",
   "execution_count": 1,
   "metadata": {},
   "outputs": [],
   "source": [
    "import pandas as pd\n",
    "import numpy as np\n",
    "import yfinance as yf\n",
    "import plotly.express as px\n",
    "import statsmodels.api as sm\n",
    "import pmdarima as pm\n",
    "import warnings\n",
    "from sklearn.metrics import mean_squared_error\n",
    "import math\n",
    "from statsmodels.tools.sm_exceptions import ConvergenceWarning\n",
    "warnings.simplefilter('ignore', ConvergenceWarning)"
   ]
  },
  {
   "cell_type": "code",
   "execution_count": 73,
   "metadata": {},
   "outputs": [],
   "source": [
    "def make_stock_data(stocks):\n",
    "    info_list=[]\n",
    "    # Close\n",
    "    for stock in stocks:\n",
    "        info = yf.Ticker(stock).history(period='max')[['Close']]\n",
    "        info_list.append(info)\n",
    "    combo = pd.concat(info_list,axis=1)\n",
    "    combo.columns = stocks\n",
    "\n",
    "    combo = combo.dropna()\n",
    "    combo.index = pd.to_datetime(combo.index).to_period('D')\n",
    "    return combo"
   ]
  },
  {
   "cell_type": "code",
   "execution_count": 103,
   "metadata": {},
   "outputs": [
    {
     "data": {
      "text/html": [
       "<div>\n",
       "<style scoped>\n",
       "    .dataframe tbody tr th:only-of-type {\n",
       "        vertical-align: middle;\n",
       "    }\n",
       "\n",
       "    .dataframe tbody tr th {\n",
       "        vertical-align: top;\n",
       "    }\n",
       "\n",
       "    .dataframe thead th {\n",
       "        text-align: right;\n",
       "    }\n",
       "</style>\n",
       "<table border=\"1\" class=\"dataframe\">\n",
       "  <thead>\n",
       "    <tr style=\"text-align: right;\">\n",
       "      <th></th>\n",
       "      <th>pcar</th>\n",
       "      <th>amzn</th>\n",
       "      <th>tsla</th>\n",
       "      <th>oil</th>\n",
       "      <th>aapl</th>\n",
       "    </tr>\n",
       "    <tr>\n",
       "      <th>Date</th>\n",
       "      <th></th>\n",
       "      <th></th>\n",
       "      <th></th>\n",
       "      <th></th>\n",
       "      <th></th>\n",
       "    </tr>\n",
       "  </thead>\n",
       "  <tbody>\n",
       "    <tr>\n",
       "      <th>2011-04-21</th>\n",
       "      <td>35.873425</td>\n",
       "      <td>9.2945</td>\n",
       "      <td>1.782667</td>\n",
       "      <td>50.349998</td>\n",
       "      <td>10.694243</td>\n",
       "    </tr>\n",
       "    <tr>\n",
       "      <th>2011-04-25</th>\n",
       "      <td>35.388565</td>\n",
       "      <td>9.2710</td>\n",
       "      <td>1.759333</td>\n",
       "      <td>50.049999</td>\n",
       "      <td>10.764685</td>\n",
       "    </tr>\n",
       "    <tr>\n",
       "      <th>2011-04-26</th>\n",
       "      <td>36.338074</td>\n",
       "      <td>9.1150</td>\n",
       "      <td>1.795333</td>\n",
       "      <td>50.299999</td>\n",
       "      <td>10.685705</td>\n",
       "    </tr>\n",
       "    <tr>\n",
       "      <th>2011-04-27</th>\n",
       "      <td>36.573788</td>\n",
       "      <td>9.8315</td>\n",
       "      <td>1.805333</td>\n",
       "      <td>50.810001</td>\n",
       "      <td>10.677468</td>\n",
       "    </tr>\n",
       "    <tr>\n",
       "      <th>2011-04-28</th>\n",
       "      <td>36.196671</td>\n",
       "      <td>9.7535</td>\n",
       "      <td>1.844000</td>\n",
       "      <td>50.700001</td>\n",
       "      <td>10.573793</td>\n",
       "    </tr>\n",
       "    <tr>\n",
       "      <th>2011-04-29</th>\n",
       "      <td>35.765671</td>\n",
       "      <td>9.7905</td>\n",
       "      <td>1.840000</td>\n",
       "      <td>51.040001</td>\n",
       "      <td>10.676866</td>\n",
       "    </tr>\n",
       "    <tr>\n",
       "      <th>2011-05-02</th>\n",
       "      <td>35.745476</td>\n",
       "      <td>10.0595</td>\n",
       "      <td>1.830000</td>\n",
       "      <td>50.950001</td>\n",
       "      <td>10.559460</td>\n",
       "    </tr>\n",
       "    <tr>\n",
       "      <th>2011-05-03</th>\n",
       "      <td>35.698326</td>\n",
       "      <td>9.9225</td>\n",
       "      <td>1.791333</td>\n",
       "      <td>49.820000</td>\n",
       "      <td>10.618008</td>\n",
       "    </tr>\n",
       "    <tr>\n",
       "      <th>2011-05-04</th>\n",
       "      <td>35.880157</td>\n",
       "      <td>9.9985</td>\n",
       "      <td>1.779333</td>\n",
       "      <td>48.889999</td>\n",
       "      <td>10.659786</td>\n",
       "    </tr>\n",
       "    <tr>\n",
       "      <th>2011-05-05</th>\n",
       "      <td>35.489567</td>\n",
       "      <td>9.8555</td>\n",
       "      <td>1.762667</td>\n",
       "      <td>44.419998</td>\n",
       "      <td>10.573793</td>\n",
       "    </tr>\n",
       "  </tbody>\n",
       "</table>\n",
       "</div>"
      ],
      "text/plain": [
       "                 pcar     amzn      tsla        oil       aapl\n",
       "Date                                                          \n",
       "2011-04-21  35.873425   9.2945  1.782667  50.349998  10.694243\n",
       "2011-04-25  35.388565   9.2710  1.759333  50.049999  10.764685\n",
       "2011-04-26  36.338074   9.1150  1.795333  50.299999  10.685705\n",
       "2011-04-27  36.573788   9.8315  1.805333  50.810001  10.677468\n",
       "2011-04-28  36.196671   9.7535  1.844000  50.700001  10.573793\n",
       "2011-04-29  35.765671   9.7905  1.840000  51.040001  10.676866\n",
       "2011-05-02  35.745476  10.0595  1.830000  50.950001  10.559460\n",
       "2011-05-03  35.698326   9.9225  1.791333  49.820000  10.618008\n",
       "2011-05-04  35.880157   9.9985  1.779333  48.889999  10.659786\n",
       "2011-05-05  35.489567   9.8555  1.762667  44.419998  10.573793"
      ]
     },
     "execution_count": 103,
     "metadata": {},
     "output_type": "execute_result"
    }
   ],
   "source": [
    "stock_name = ['pcar','amzn','tsla','oil','aapl']\n",
    "\n",
    "combo = make_stock_data(stock_name)\n",
    "combo.head(10)\n"
   ]
  },
  {
   "cell_type": "code",
   "execution_count": 75,
   "metadata": {},
   "outputs": [],
   "source": [
    "def do_model(combo,stock_name):\n",
    "    outs={}\n",
    "    for stock in stock_name:\n",
    "        combo['predict'] = combo[stock].shift(-1)\n",
    "\n",
    "        model = sm.tsa.statespace.SARIMAX(endog = combo.predict,exog = combo.drop('predict',axis=1),order=[5,0,0],seasonal_order=[0,0,0,5],trend='ct',)\n",
    "        model_fit = model.fit(disp=False)\n",
    "        output = model_fit.predict(exog = combo.drop('predict',axis=1))\n",
    "        combo['predicted'] = output\n",
    "\n",
    "        out = combo[[stock,'predict','predicted']].rename(columns = {stock:'Today','predict':'Tomorow Actual','predicted':'Tomorow Pred'})\n",
    "\n",
    "        todo = []\n",
    "        correct = []\n",
    "        for i in range(0,len(out)):\n",
    "            row = out.iloc[i]\n",
    "            if row['Tomorow Pred'] > row['Today']: \n",
    "                todo.append('Hold')\n",
    "            else: todo.append('Sell')\n",
    "\n",
    "            if math.isnan(row['Tomorow Actual']): correct.append(np.nan)\n",
    "            elif row['Tomorow Actual'] > row['Today']: \n",
    "                correct.append('Hold')\n",
    "            else: correct.append('Sell')\n",
    "        out['todo'] = todo\n",
    "        out['correct'] = correct\n",
    "        outs[stock] = out\n",
    "    return outs\n"
   ]
  },
  {
   "cell_type": "code",
   "execution_count": 184,
   "metadata": {},
   "outputs": [],
   "source": [
    "length = 365\n",
    "length_ = length+1\n",
    "\n",
    "all_dates = combo.index\n",
    "frame = all_dates[-length_:-1]\n",
    "\n",
    "plan={}\n",
    "for stock in stock_name:\n",
    "    plan[stock] = []\n",
    "i=0\n",
    "for date in frame:\n",
    "    available = combo.loc[:date].copy()\n",
    "    outs = do_model(available,stock_name)\n",
    "    for stock in stock_name:\n",
    "        the_move = outs[stock].todo[-1]\n",
    "        plan[stock].append(the_move)\n",
    "    i+=1\n",
    "    print(f'{i}/{length}', end=\"\\r\", flush=True)\n",
    "\n",
    "\n",
    "        \n"
   ]
  },
  {
   "cell_type": "code",
   "execution_count": null,
   "metadata": {},
   "outputs": [],
   "source": [
    "def testing(plan,stock_name,initial):\n",
    "    compare_list=[]\n",
    "\n",
    "    combo = make_stock_data(stock_name)\n",
    "    for stock in stock_name:\n",
    "        x = initial\n",
    "        x2 = x\n",
    "        x3 = x\n",
    "        plann=[]\n",
    "        hold=[]\n",
    "        perfect=[]\n",
    "        stock_plan = plan[stock]\n",
    "        trimmed_combo = combo[-len(stock_plan):].copy()\n",
    "        trimmed_combo['plan'] = stock_plan\n",
    "        date = [x.to_timestamp() for x in trimmed_combo.index]\n",
    "        for i in range(0,len(trimmed_combo)-1):\n",
    "            now = trimmed_combo.iloc[i]\n",
    "            tom = trimmed_combo.iloc[i+1]\n",
    "\n",
    "            change = ((tom[stock]-now[stock])/now[stock])\n",
    "\n",
    "            # using system\n",
    "            if now.plan == 'Hold':\n",
    "                x = x + (x*change)\n",
    "            # just holding\n",
    "            x2 = x2+(x2*change)\n",
    "            # if it was perfect\n",
    "            if change >0:\n",
    "                x3 = x3+(x3*change)\n",
    "\n",
    "            plann.append(x)\n",
    "            hold.append(x2)\n",
    "            perfect.append(x3)\n",
    "\n",
    "        print(f'{stock}:')\n",
    "        print(f'    -Perfect: {round(x3,2)}$ -- {round(((x3-initial)/initial)*100,2)}%')\n",
    "        print(f'    -Plan: {round(x,2)}$ ----- {round(((x-initial)/initial)*100,2)}%')\n",
    "        print(f'    -Hold: {round(x2,2)}$ ----- {round(((x2-initial)/initial)*100,2)}%')\n",
    "\n",
    "        plan_frame = pd.DataFrame(zip(date,plann,['plan']*len(plann),[stock]*len(plann)),columns = ['date','val','type','stock'])\n",
    "        hold_frame = pd.DataFrame(zip(date,hold,['hold']*len(plann),[stock]*len(plann)),columns = ['date','val','type','stock'])\n",
    "        perfect_frame = pd.DataFrame(zip(date,perfect,['perfect']*len(plann),[stock]*len(plann)),columns = ['date','val','type','stock'])\n",
    "\n",
    "        compare= pd.concat([plan_frame,hold_frame,perfect_frame])\n",
    "        compare_list.append(compare)\n",
    "    all_compare = pd.concat(compare_list)\n",
    "\n",
    "    all_compare['indicator'] = all_compare['type']+' '+all_compare['stock']\n",
    "    plot = px.line(x=all_compare.date,y=all_compare.val,color=all_compare.indicator)\n",
    "    all_compare = all_compare.drop('indicator',axis=1)\n",
    "    return all_compare,plot\n",
    "\n",
    "    "
   ]
  },
  {
   "cell_type": "code",
   "execution_count": null,
   "metadata": {},
   "outputs": [
    {
     "name": "stdout",
     "output_type": "stream",
     "text": [
      "pcar:\n",
      "    -Perfect: 106.29$ -- 6.29%\n",
      "    -Plan: 104.81$ ----- 4.81%\n",
      "    -Hold: 104.24$ ----- 4.24%\n",
      "amzn:\n",
      "    -Perfect: 105.78$ -- 5.78%\n",
      "    -Plan: 99.76$ ----- -0.24%\n",
      "    -Hold: 101.28$ ----- 1.28%\n",
      "tsla:\n",
      "    -Perfect: 101.72$ -- 1.72%\n",
      "    -Plan: 91.39$ ----- -8.61%\n",
      "    -Hold: 85.67$ ----- -14.33%\n",
      "oil:\n",
      "    -Perfect: 108.6$ -- 8.6%\n",
      "    -Plan: 108.19$ ----- 8.19%\n",
      "    -Hold: 105.79$ ----- 5.79%\n",
      "aapl:\n",
      "    -Perfect: 103.08$ -- 3.08%\n",
      "    -Plan: 103.08$ ----- 3.08%\n",
      "    -Hold: 93.87$ ----- -6.13%\n",
      "[Timestamp('2022-09-27 00:00:00'), Timestamp('2022-09-28 00:00:00'), Timestamp('2022-09-29 00:00:00'), Timestamp('2022-09-30 00:00:00'), Timestamp('2022-10-03 00:00:00')]\n"
     ]
    }
   ],
   "source": [
    "all_comp,plot = testing(plan,stock_name,1000)"
   ]
  },
  {
   "cell_type": "code",
   "execution_count": null,
   "metadata": {},
   "outputs": [
    {
     "data": {
      "application/vnd.plotly.v1+json": {
       "config": {
        "plotlyServerURL": "https://plot.ly"
       },
       "data": [
        {
         "hovertemplate": "color=plan pcar<br>x=%{x}<br>y=%{y}<extra></extra>",
         "legendgroup": "plan pcar",
         "line": {
          "color": "#636efa",
          "dash": "solid"
         },
         "marker": {
          "symbol": "circle"
         },
         "mode": "lines",
         "name": "plan pcar",
         "orientation": "v",
         "showlegend": true,
         "type": "scatter",
         "x": [
          "2022-09-27T00:00:00",
          "2022-09-28T00:00:00",
          "2022-09-29T00:00:00",
          "2022-09-30T00:00:00"
         ],
         "xaxis": "x",
         "y": [
          102.85680179934526,
          102.85680179934526,
          101.42671986715727,
          104.8080155181692
         ],
         "yaxis": "y"
        },
        {
         "hovertemplate": "color=hold pcar<br>x=%{x}<br>y=%{y}<extra></extra>",
         "legendgroup": "hold pcar",
         "line": {
          "color": "#EF553B",
          "dash": "solid"
         },
         "marker": {
          "symbol": "circle"
         },
         "mode": "lines",
         "name": "hold pcar",
         "orientation": "v",
         "showlegend": true,
         "type": "scatter",
         "x": [
          "2022-09-27T00:00:00",
          "2022-09-28T00:00:00",
          "2022-09-29T00:00:00",
          "2022-09-30T00:00:00"
         ],
         "xaxis": "x",
         "y": [
          102.85680179934526,
          102.3023188080855,
          100.87994619695003,
          104.24301387573155
         ],
         "yaxis": "y"
        },
        {
         "hovertemplate": "color=perfect pcar<br>x=%{x}<br>y=%{y}<extra></extra>",
         "legendgroup": "perfect pcar",
         "line": {
          "color": "#00cc96",
          "dash": "solid"
         },
         "marker": {
          "symbol": "circle"
         },
         "mode": "lines",
         "name": "perfect pcar",
         "orientation": "v",
         "showlegend": true,
         "type": "scatter",
         "x": [
          "2022-09-27T00:00:00",
          "2022-09-28T00:00:00",
          "2022-09-29T00:00:00",
          "2022-09-30T00:00:00"
         ],
         "xaxis": "x",
         "y": [
          102.85680179934526,
          102.85680179934526,
          102.85680179934526,
          106.28577255829947
         ],
         "yaxis": "y"
        },
        {
         "hovertemplate": "color=plan amzn<br>x=%{x}<br>y=%{y}<extra></extra>",
         "legendgroup": "plan amzn",
         "line": {
          "color": "#ab63fa",
          "dash": "solid"
         },
         "marker": {
          "symbol": "circle"
         },
         "mode": "lines",
         "name": "plan amzn",
         "orientation": "v",
         "showlegend": true,
         "type": "scatter",
         "x": [
          "2022-09-27T00:00:00",
          "2022-09-28T00:00:00",
          "2022-09-29T00:00:00",
          "2022-09-30T00:00:00"
         ],
         "xaxis": "x",
         "y": [
          100,
          97.2798923596603,
          97.2798923596603,
          99.75923592433833
         ],
         "yaxis": "y"
        },
        {
         "hovertemplate": "color=hold amzn<br>x=%{x}<br>y=%{y}<extra></extra>",
         "legendgroup": "hold amzn",
         "line": {
          "color": "#FFA15A",
          "dash": "solid"
         },
         "marker": {
          "symbol": "circle"
         },
         "mode": "lines",
         "name": "hold amzn",
         "orientation": "v",
         "showlegend": true,
         "type": "scatter",
         "x": [
          "2022-09-27T00:00:00",
          "2022-09-28T00:00:00",
          "2022-09-29T00:00:00",
          "2022-09-30T00:00:00"
         ],
         "xaxis": "x",
         "y": [
          103.14657666190894,
          100.3408787493795,
          98.767587084191,
          101.28484708002455
         ],
         "yaxis": "y"
        },
        {
         "hovertemplate": "color=perfect amzn<br>x=%{x}<br>y=%{y}<extra></extra>",
         "legendgroup": "perfect amzn",
         "line": {
          "color": "#19d3f3",
          "dash": "solid"
         },
         "marker": {
          "symbol": "circle"
         },
         "mode": "lines",
         "name": "perfect amzn",
         "orientation": "v",
         "showlegend": true,
         "type": "scatter",
         "x": [
          "2022-09-27T00:00:00",
          "2022-09-28T00:00:00",
          "2022-09-29T00:00:00",
          "2022-09-30T00:00:00"
         ],
         "xaxis": "x",
         "y": [
          103.14657666190894,
          103.14657666190894,
          103.14657666190894,
          105.77544265735817
         ],
         "yaxis": "y"
        },
        {
         "hovertemplate": "color=plan tsla<br>x=%{x}<br>y=%{y}<extra></extra>",
         "legendgroup": "plan tsla",
         "line": {
          "color": "#FF6692",
          "dash": "solid"
         },
         "marker": {
          "symbol": "circle"
         },
         "mode": "lines",
         "name": "plan tsla",
         "orientation": "v",
         "showlegend": true,
         "type": "scatter",
         "x": [
          "2022-09-27T00:00:00",
          "2022-09-28T00:00:00",
          "2022-09-29T00:00:00",
          "2022-09-30T00:00:00"
         ],
         "xaxis": "x",
         "y": [
          100,
          100,
          100,
          91.38548309009778
         ],
         "yaxis": "y"
        },
        {
         "hovertemplate": "color=hold tsla<br>x=%{x}<br>y=%{y}<extra></extra>",
         "legendgroup": "hold tsla",
         "line": {
          "color": "#B6E880",
          "dash": "solid"
         },
         "marker": {
          "symbol": "circle"
         },
         "mode": "lines",
         "name": "hold tsla",
         "orientation": "v",
         "showlegend": true,
         "type": "scatter",
         "x": [
          "2022-09-27T00:00:00",
          "2022-09-28T00:00:00",
          "2022-09-29T00:00:00",
          "2022-09-30T00:00:00"
         ],
         "xaxis": "x",
         "y": [
          101.72121123742339,
          94.79394540919375,
          93.74779024218407,
          85.67187099911146
         ],
         "yaxis": "y"
        },
        {
         "hovertemplate": "color=perfect tsla<br>x=%{x}<br>y=%{y}<extra></extra>",
         "legendgroup": "perfect tsla",
         "line": {
          "color": "#FF97FF",
          "dash": "solid"
         },
         "marker": {
          "symbol": "circle"
         },
         "mode": "lines",
         "name": "perfect tsla",
         "orientation": "v",
         "showlegend": true,
         "type": "scatter",
         "x": [
          "2022-09-27T00:00:00",
          "2022-09-28T00:00:00",
          "2022-09-29T00:00:00",
          "2022-09-30T00:00:00"
         ],
         "xaxis": "x",
         "y": [
          101.72121123742339,
          101.72121123742339,
          101.72121123742339,
          101.72121123742339
         ],
         "yaxis": "y"
        },
        {
         "hovertemplate": "color=plan oil<br>x=%{x}<br>y=%{y}<extra></extra>",
         "legendgroup": "plan oil",
         "line": {
          "color": "#FECB52",
          "dash": "solid"
         },
         "marker": {
          "symbol": "circle"
         },
         "mode": "lines",
         "name": "plan oil",
         "orientation": "v",
         "showlegend": true,
         "type": "scatter",
         "x": [
          "2022-09-27T00:00:00",
          "2022-09-28T00:00:00",
          "2022-09-29T00:00:00",
          "2022-09-30T00:00:00"
         ],
         "xaxis": "x",
         "y": [
          103.8984269967062,
          103.50501245234015,
          103.50501245234015,
          108.1865138863313
         ],
         "yaxis": "y"
        },
        {
         "hovertemplate": "color=hold oil<br>x=%{x}<br>y=%{y}<extra></extra>",
         "legendgroup": "hold oil",
         "line": {
          "color": "#636efa",
          "dash": "solid"
         },
         "marker": {
          "symbol": "circle"
         },
         "mode": "lines",
         "name": "hold oil",
         "orientation": "v",
         "showlegend": true,
         "type": "scatter",
         "x": [
          "2022-09-27T00:00:00",
          "2022-09-28T00:00:00",
          "2022-09-29T00:00:00",
          "2022-09-30T00:00:00"
         ],
         "xaxis": "x",
         "y": [
          103.8984269967062,
          103.50501245234015,
          101.2160234753967,
          105.79399460757868
         ],
         "yaxis": "y"
        },
        {
         "hovertemplate": "color=perfect oil<br>x=%{x}<br>y=%{y}<extra></extra>",
         "legendgroup": "perfect oil",
         "line": {
          "color": "#EF553B",
          "dash": "solid"
         },
         "marker": {
          "symbol": "circle"
         },
         "mode": "lines",
         "name": "perfect oil",
         "orientation": "v",
         "showlegend": true,
         "type": "scatter",
         "x": [
          "2022-09-27T00:00:00",
          "2022-09-28T00:00:00",
          "2022-09-29T00:00:00",
          "2022-09-30T00:00:00"
         ],
         "xaxis": "x",
         "y": [
          103.8984269967062,
          103.8984269967062,
          103.8984269967062,
          108.59772245545003
         ],
         "yaxis": "y"
        },
        {
         "hovertemplate": "color=plan aapl<br>x=%{x}<br>y=%{y}<extra></extra>",
         "legendgroup": "plan aapl",
         "line": {
          "color": "#00cc96",
          "dash": "solid"
         },
         "marker": {
          "symbol": "circle"
         },
         "mode": "lines",
         "name": "plan aapl",
         "orientation": "v",
         "showlegend": true,
         "type": "scatter",
         "x": [
          "2022-09-27T00:00:00",
          "2022-09-28T00:00:00",
          "2022-09-29T00:00:00",
          "2022-09-30T00:00:00"
         ],
         "xaxis": "x",
         "y": [
          100,
          100,
          100,
          103.07525332405882
         ],
         "yaxis": "y"
        },
        {
         "hovertemplate": "color=hold aapl<br>x=%{x}<br>y=%{y}<extra></extra>",
         "legendgroup": "hold aapl",
         "line": {
          "color": "#ab63fa",
          "dash": "solid"
         },
         "marker": {
          "symbol": "circle"
         },
         "mode": "lines",
         "name": "hold aapl",
         "orientation": "v",
         "showlegend": true,
         "type": "scatter",
         "x": [
          "2022-09-27T00:00:00",
          "2022-09-28T00:00:00",
          "2022-09-29T00:00:00",
          "2022-09-30T00:00:00"
         ],
         "xaxis": "x",
         "y": [
          98.73484565205435,
          93.8850822909862,
          91.06484050512867,
          93.8653150398115
         ],
         "yaxis": "y"
        },
        {
         "hovertemplate": "color=perfect aapl<br>x=%{x}<br>y=%{y}<extra></extra>",
         "legendgroup": "perfect aapl",
         "line": {
          "color": "#FFA15A",
          "dash": "solid"
         },
         "marker": {
          "symbol": "circle"
         },
         "mode": "lines",
         "name": "perfect aapl",
         "orientation": "v",
         "showlegend": true,
         "type": "scatter",
         "x": [
          "2022-09-27T00:00:00",
          "2022-09-28T00:00:00",
          "2022-09-29T00:00:00",
          "2022-09-30T00:00:00"
         ],
         "xaxis": "x",
         "y": [
          100,
          100,
          100,
          103.07525332405882
         ],
         "yaxis": "y"
        }
       ],
       "layout": {
        "legend": {
         "title": {
          "text": "color"
         },
         "tracegroupgap": 0
        },
        "margin": {
         "t": 60
        },
        "template": {
         "data": {
          "bar": [
           {
            "error_x": {
             "color": "#2a3f5f"
            },
            "error_y": {
             "color": "#2a3f5f"
            },
            "marker": {
             "line": {
              "color": "#E5ECF6",
              "width": 0.5
             },
             "pattern": {
              "fillmode": "overlay",
              "size": 10,
              "solidity": 0.2
             }
            },
            "type": "bar"
           }
          ],
          "barpolar": [
           {
            "marker": {
             "line": {
              "color": "#E5ECF6",
              "width": 0.5
             },
             "pattern": {
              "fillmode": "overlay",
              "size": 10,
              "solidity": 0.2
             }
            },
            "type": "barpolar"
           }
          ],
          "carpet": [
           {
            "aaxis": {
             "endlinecolor": "#2a3f5f",
             "gridcolor": "white",
             "linecolor": "white",
             "minorgridcolor": "white",
             "startlinecolor": "#2a3f5f"
            },
            "baxis": {
             "endlinecolor": "#2a3f5f",
             "gridcolor": "white",
             "linecolor": "white",
             "minorgridcolor": "white",
             "startlinecolor": "#2a3f5f"
            },
            "type": "carpet"
           }
          ],
          "choropleth": [
           {
            "colorbar": {
             "outlinewidth": 0,
             "ticks": ""
            },
            "type": "choropleth"
           }
          ],
          "contour": [
           {
            "colorbar": {
             "outlinewidth": 0,
             "ticks": ""
            },
            "colorscale": [
             [
              0,
              "#0d0887"
             ],
             [
              0.1111111111111111,
              "#46039f"
             ],
             [
              0.2222222222222222,
              "#7201a8"
             ],
             [
              0.3333333333333333,
              "#9c179e"
             ],
             [
              0.4444444444444444,
              "#bd3786"
             ],
             [
              0.5555555555555556,
              "#d8576b"
             ],
             [
              0.6666666666666666,
              "#ed7953"
             ],
             [
              0.7777777777777778,
              "#fb9f3a"
             ],
             [
              0.8888888888888888,
              "#fdca26"
             ],
             [
              1,
              "#f0f921"
             ]
            ],
            "type": "contour"
           }
          ],
          "contourcarpet": [
           {
            "colorbar": {
             "outlinewidth": 0,
             "ticks": ""
            },
            "type": "contourcarpet"
           }
          ],
          "heatmap": [
           {
            "colorbar": {
             "outlinewidth": 0,
             "ticks": ""
            },
            "colorscale": [
             [
              0,
              "#0d0887"
             ],
             [
              0.1111111111111111,
              "#46039f"
             ],
             [
              0.2222222222222222,
              "#7201a8"
             ],
             [
              0.3333333333333333,
              "#9c179e"
             ],
             [
              0.4444444444444444,
              "#bd3786"
             ],
             [
              0.5555555555555556,
              "#d8576b"
             ],
             [
              0.6666666666666666,
              "#ed7953"
             ],
             [
              0.7777777777777778,
              "#fb9f3a"
             ],
             [
              0.8888888888888888,
              "#fdca26"
             ],
             [
              1,
              "#f0f921"
             ]
            ],
            "type": "heatmap"
           }
          ],
          "heatmapgl": [
           {
            "colorbar": {
             "outlinewidth": 0,
             "ticks": ""
            },
            "colorscale": [
             [
              0,
              "#0d0887"
             ],
             [
              0.1111111111111111,
              "#46039f"
             ],
             [
              0.2222222222222222,
              "#7201a8"
             ],
             [
              0.3333333333333333,
              "#9c179e"
             ],
             [
              0.4444444444444444,
              "#bd3786"
             ],
             [
              0.5555555555555556,
              "#d8576b"
             ],
             [
              0.6666666666666666,
              "#ed7953"
             ],
             [
              0.7777777777777778,
              "#fb9f3a"
             ],
             [
              0.8888888888888888,
              "#fdca26"
             ],
             [
              1,
              "#f0f921"
             ]
            ],
            "type": "heatmapgl"
           }
          ],
          "histogram": [
           {
            "marker": {
             "pattern": {
              "fillmode": "overlay",
              "size": 10,
              "solidity": 0.2
             }
            },
            "type": "histogram"
           }
          ],
          "histogram2d": [
           {
            "colorbar": {
             "outlinewidth": 0,
             "ticks": ""
            },
            "colorscale": [
             [
              0,
              "#0d0887"
             ],
             [
              0.1111111111111111,
              "#46039f"
             ],
             [
              0.2222222222222222,
              "#7201a8"
             ],
             [
              0.3333333333333333,
              "#9c179e"
             ],
             [
              0.4444444444444444,
              "#bd3786"
             ],
             [
              0.5555555555555556,
              "#d8576b"
             ],
             [
              0.6666666666666666,
              "#ed7953"
             ],
             [
              0.7777777777777778,
              "#fb9f3a"
             ],
             [
              0.8888888888888888,
              "#fdca26"
             ],
             [
              1,
              "#f0f921"
             ]
            ],
            "type": "histogram2d"
           }
          ],
          "histogram2dcontour": [
           {
            "colorbar": {
             "outlinewidth": 0,
             "ticks": ""
            },
            "colorscale": [
             [
              0,
              "#0d0887"
             ],
             [
              0.1111111111111111,
              "#46039f"
             ],
             [
              0.2222222222222222,
              "#7201a8"
             ],
             [
              0.3333333333333333,
              "#9c179e"
             ],
             [
              0.4444444444444444,
              "#bd3786"
             ],
             [
              0.5555555555555556,
              "#d8576b"
             ],
             [
              0.6666666666666666,
              "#ed7953"
             ],
             [
              0.7777777777777778,
              "#fb9f3a"
             ],
             [
              0.8888888888888888,
              "#fdca26"
             ],
             [
              1,
              "#f0f921"
             ]
            ],
            "type": "histogram2dcontour"
           }
          ],
          "mesh3d": [
           {
            "colorbar": {
             "outlinewidth": 0,
             "ticks": ""
            },
            "type": "mesh3d"
           }
          ],
          "parcoords": [
           {
            "line": {
             "colorbar": {
              "outlinewidth": 0,
              "ticks": ""
             }
            },
            "type": "parcoords"
           }
          ],
          "pie": [
           {
            "automargin": true,
            "type": "pie"
           }
          ],
          "scatter": [
           {
            "fillpattern": {
             "fillmode": "overlay",
             "size": 10,
             "solidity": 0.2
            },
            "type": "scatter"
           }
          ],
          "scatter3d": [
           {
            "line": {
             "colorbar": {
              "outlinewidth": 0,
              "ticks": ""
             }
            },
            "marker": {
             "colorbar": {
              "outlinewidth": 0,
              "ticks": ""
             }
            },
            "type": "scatter3d"
           }
          ],
          "scattercarpet": [
           {
            "marker": {
             "colorbar": {
              "outlinewidth": 0,
              "ticks": ""
             }
            },
            "type": "scattercarpet"
           }
          ],
          "scattergeo": [
           {
            "marker": {
             "colorbar": {
              "outlinewidth": 0,
              "ticks": ""
             }
            },
            "type": "scattergeo"
           }
          ],
          "scattergl": [
           {
            "marker": {
             "colorbar": {
              "outlinewidth": 0,
              "ticks": ""
             }
            },
            "type": "scattergl"
           }
          ],
          "scattermapbox": [
           {
            "marker": {
             "colorbar": {
              "outlinewidth": 0,
              "ticks": ""
             }
            },
            "type": "scattermapbox"
           }
          ],
          "scatterpolar": [
           {
            "marker": {
             "colorbar": {
              "outlinewidth": 0,
              "ticks": ""
             }
            },
            "type": "scatterpolar"
           }
          ],
          "scatterpolargl": [
           {
            "marker": {
             "colorbar": {
              "outlinewidth": 0,
              "ticks": ""
             }
            },
            "type": "scatterpolargl"
           }
          ],
          "scatterternary": [
           {
            "marker": {
             "colorbar": {
              "outlinewidth": 0,
              "ticks": ""
             }
            },
            "type": "scatterternary"
           }
          ],
          "surface": [
           {
            "colorbar": {
             "outlinewidth": 0,
             "ticks": ""
            },
            "colorscale": [
             [
              0,
              "#0d0887"
             ],
             [
              0.1111111111111111,
              "#46039f"
             ],
             [
              0.2222222222222222,
              "#7201a8"
             ],
             [
              0.3333333333333333,
              "#9c179e"
             ],
             [
              0.4444444444444444,
              "#bd3786"
             ],
             [
              0.5555555555555556,
              "#d8576b"
             ],
             [
              0.6666666666666666,
              "#ed7953"
             ],
             [
              0.7777777777777778,
              "#fb9f3a"
             ],
             [
              0.8888888888888888,
              "#fdca26"
             ],
             [
              1,
              "#f0f921"
             ]
            ],
            "type": "surface"
           }
          ],
          "table": [
           {
            "cells": {
             "fill": {
              "color": "#EBF0F8"
             },
             "line": {
              "color": "white"
             }
            },
            "header": {
             "fill": {
              "color": "#C8D4E3"
             },
             "line": {
              "color": "white"
             }
            },
            "type": "table"
           }
          ]
         },
         "layout": {
          "annotationdefaults": {
           "arrowcolor": "#2a3f5f",
           "arrowhead": 0,
           "arrowwidth": 1
          },
          "autotypenumbers": "strict",
          "coloraxis": {
           "colorbar": {
            "outlinewidth": 0,
            "ticks": ""
           }
          },
          "colorscale": {
           "diverging": [
            [
             0,
             "#8e0152"
            ],
            [
             0.1,
             "#c51b7d"
            ],
            [
             0.2,
             "#de77ae"
            ],
            [
             0.3,
             "#f1b6da"
            ],
            [
             0.4,
             "#fde0ef"
            ],
            [
             0.5,
             "#f7f7f7"
            ],
            [
             0.6,
             "#e6f5d0"
            ],
            [
             0.7,
             "#b8e186"
            ],
            [
             0.8,
             "#7fbc41"
            ],
            [
             0.9,
             "#4d9221"
            ],
            [
             1,
             "#276419"
            ]
           ],
           "sequential": [
            [
             0,
             "#0d0887"
            ],
            [
             0.1111111111111111,
             "#46039f"
            ],
            [
             0.2222222222222222,
             "#7201a8"
            ],
            [
             0.3333333333333333,
             "#9c179e"
            ],
            [
             0.4444444444444444,
             "#bd3786"
            ],
            [
             0.5555555555555556,
             "#d8576b"
            ],
            [
             0.6666666666666666,
             "#ed7953"
            ],
            [
             0.7777777777777778,
             "#fb9f3a"
            ],
            [
             0.8888888888888888,
             "#fdca26"
            ],
            [
             1,
             "#f0f921"
            ]
           ],
           "sequentialminus": [
            [
             0,
             "#0d0887"
            ],
            [
             0.1111111111111111,
             "#46039f"
            ],
            [
             0.2222222222222222,
             "#7201a8"
            ],
            [
             0.3333333333333333,
             "#9c179e"
            ],
            [
             0.4444444444444444,
             "#bd3786"
            ],
            [
             0.5555555555555556,
             "#d8576b"
            ],
            [
             0.6666666666666666,
             "#ed7953"
            ],
            [
             0.7777777777777778,
             "#fb9f3a"
            ],
            [
             0.8888888888888888,
             "#fdca26"
            ],
            [
             1,
             "#f0f921"
            ]
           ]
          },
          "colorway": [
           "#636efa",
           "#EF553B",
           "#00cc96",
           "#ab63fa",
           "#FFA15A",
           "#19d3f3",
           "#FF6692",
           "#B6E880",
           "#FF97FF",
           "#FECB52"
          ],
          "font": {
           "color": "#2a3f5f"
          },
          "geo": {
           "bgcolor": "white",
           "lakecolor": "white",
           "landcolor": "#E5ECF6",
           "showlakes": true,
           "showland": true,
           "subunitcolor": "white"
          },
          "hoverlabel": {
           "align": "left"
          },
          "hovermode": "closest",
          "mapbox": {
           "style": "light"
          },
          "paper_bgcolor": "white",
          "plot_bgcolor": "#E5ECF6",
          "polar": {
           "angularaxis": {
            "gridcolor": "white",
            "linecolor": "white",
            "ticks": ""
           },
           "bgcolor": "#E5ECF6",
           "radialaxis": {
            "gridcolor": "white",
            "linecolor": "white",
            "ticks": ""
           }
          },
          "scene": {
           "xaxis": {
            "backgroundcolor": "#E5ECF6",
            "gridcolor": "white",
            "gridwidth": 2,
            "linecolor": "white",
            "showbackground": true,
            "ticks": "",
            "zerolinecolor": "white"
           },
           "yaxis": {
            "backgroundcolor": "#E5ECF6",
            "gridcolor": "white",
            "gridwidth": 2,
            "linecolor": "white",
            "showbackground": true,
            "ticks": "",
            "zerolinecolor": "white"
           },
           "zaxis": {
            "backgroundcolor": "#E5ECF6",
            "gridcolor": "white",
            "gridwidth": 2,
            "linecolor": "white",
            "showbackground": true,
            "ticks": "",
            "zerolinecolor": "white"
           }
          },
          "shapedefaults": {
           "line": {
            "color": "#2a3f5f"
           }
          },
          "ternary": {
           "aaxis": {
            "gridcolor": "white",
            "linecolor": "white",
            "ticks": ""
           },
           "baxis": {
            "gridcolor": "white",
            "linecolor": "white",
            "ticks": ""
           },
           "bgcolor": "#E5ECF6",
           "caxis": {
            "gridcolor": "white",
            "linecolor": "white",
            "ticks": ""
           }
          },
          "title": {
           "x": 0.05
          },
          "xaxis": {
           "automargin": true,
           "gridcolor": "white",
           "linecolor": "white",
           "ticks": "",
           "title": {
            "standoff": 15
           },
           "zerolinecolor": "white",
           "zerolinewidth": 2
          },
          "yaxis": {
           "automargin": true,
           "gridcolor": "white",
           "linecolor": "white",
           "ticks": "",
           "title": {
            "standoff": 15
           },
           "zerolinecolor": "white",
           "zerolinewidth": 2
          }
         }
        },
        "xaxis": {
         "anchor": "y",
         "domain": [
          0,
          1
         ],
         "title": {
          "text": "x"
         }
        },
        "yaxis": {
         "anchor": "x",
         "domain": [
          0,
          1
         ],
         "title": {
          "text": "y"
         }
        }
       }
      }
     },
     "metadata": {},
     "output_type": "display_data"
    }
   ],
   "source": [
    "plot"
   ]
  }
 ],
 "metadata": {
  "interpreter": {
   "hash": "d3219287d9eb5fc05821a78dc80ed27b868a1a8a34adb95d2e1d87b2888ddc41"
  },
  "kernelspec": {
   "display_name": "Python 3.10.4 ('env': venv)",
   "language": "python",
   "name": "python3"
  },
  "language_info": {
   "codemirror_mode": {
    "name": "ipython",
    "version": 3
   },
   "file_extension": ".py",
   "mimetype": "text/x-python",
   "name": "python",
   "nbconvert_exporter": "python",
   "pygments_lexer": "ipython3",
   "version": "3.10.4"
  },
  "orig_nbformat": 4
 },
 "nbformat": 4,
 "nbformat_minor": 2
}
